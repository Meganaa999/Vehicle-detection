{
 "cells": [
  {
   "cell_type": "code",
   "execution_count": 1,
   "id": "65a4b685-308f-4427-aa98-9f2e9ca001b4",
   "metadata": {},
   "outputs": [],
   "source": [
    "## all imports\n",
    "import numpy as np\n",
    "import matplotlib.pyplot as plt\n",
    "%matplotlib inline\n",
    "plt.style.use('bmh')\n",
    "\n",
    "import tensorflow as tf\n",
    "from tensorflow import keras\n",
    "import keras_tuner as kt\n",
    "from sympy import Point, Polygon\n"
   ]
  },
  {
   "cell_type": "code",
   "execution_count": 2,
   "id": "0e5da28e-4669-4425-8da9-877d2acc7dc2",
   "metadata": {},
   "outputs": [],
   "source": [
    "import numpy as np\n",
    "import matplotlib.pyplot as plt\n",
    "%matplotlib inline\n",
    "# load libraries and magics\n",
    "# load libraries and magics\n",
    "import numpy as np\n",
    "import matplotlib.pyplot as plt\n",
    "import pandas as pd\n",
    "import joblib\n",
    "from sklearn.svm import SVC\n",
    "from scikeras.wrappers import KerasClassifier\n",
    "from sklearn.preprocessing import OrdinalEncoder\n",
    "from sklearn.feature_selection import RFE\n",
    "from sklearn.model_selection import cross_val_score\n",
    "from sklearn.model_selection import RepeatedKFold\n",
    "from sklearn.linear_model import Lasso\n",
    "from sklearn.compose import ColumnTransformer\n",
    "from sklearn.preprocessing import StandardScaler, OneHotEncoder, PolynomialFeatures\n",
    "from sklearn.ensemble import RandomForestClassifier\n",
    "from sklearn.ensemble import RandomForestRegressor\n",
    "from sklearn.linear_model import LinearRegression\n",
    "from sklearn.model_selection import GridSearchCV\n",
    "from sklearn.preprocessing import PolynomialFeatures\n",
    "from sklearn.pipeline import Pipeline \n",
    "from sklearn.model_selection import RandomizedSearchCV\n",
    "from sklearn.metrics import mean_squared_error\n",
    "from sklearn.model_selection import train_test_split\n",
    "from sklearn.preprocessing import MinMaxScaler\n",
    "from sklearn.metrics import classification_report\n",
    "from sklearn.model_selection import cross_val_predict\n",
    "from sklearn.linear_model import LogisticRegression\n",
    "from scipy.stats import expon\n",
    "from sklearn.metrics import precision_score, recall_score\n",
    "from sklearn.metrics import precision_recall_curve\n",
    "from scipy import stats\n",
    "from sklearn.metrics import f1_score\n",
    "from sklearn.metrics import accuracy_score\n",
    "from sklearn.metrics import r2_score\n",
    "import datetime\n",
    "from time import time\n",
    "import warnings\n",
    "from sklearn.decomposition import PCA\n",
    "from sklearn.manifold import MDS\n",
    "from sklearn.manifold import LocallyLinearEmbedding as LLE\n",
    "from scipy.spatial.distance import squareform\n",
    "from scipy.spatial.distance import pdist\n",
    "from sklearn.manifold import Isomap\n",
    "warnings.filterwarnings('ignore')\n",
    "import cv2\n",
    "\n",
    "plt.style.use('bmh')\n",
    "plt.rcParams['axes.grid'] = False\n",
    "\n",
    "warnings.filterwarnings(\"ignore\", category=FutureWarning)\n"
   ]
  },
  {
   "cell_type": "code",
   "execution_count": 3,
   "id": "3f2576c3-69b3-429d-8448-7acb69a81dab",
   "metadata": {},
   "outputs": [],
   "source": [
    "class_names = ['Roses', 'Magnolias', 'Lilies', 'Sunflowers', 'Orchids', \n",
    "               'Marigold', 'Hibiscus', 'Firebush', 'Pentas', 'Bougainvillea']"
   ]
  },
  {
   "cell_type": "markdown",
   "id": "375eba2f-5725-4397-8caa-c8d958d2b6a3",
   "metadata": {},
   "source": [
    "## Question - 1"
   ]
  },
  {
   "cell_type": "code",
   "execution_count": 4,
   "id": "b3384b1a-06b1-4143-af97-e999d7eff9b7",
   "metadata": {},
   "outputs": [
    {
     "name": "stderr",
     "output_type": "stream",
     "text": [
      "2022-12-10 21:26:23.409484: I tensorflow/core/platform/cpu_feature_guard.cc:151] This TensorFlow binary is optimized with oneAPI Deep Neural Network Library (oneDNN) to use the following CPU instructions in performance-critical operations:  SSE4.1 SSE4.2 AVX AVX2 FMA\n",
      "To enable them in other operations, rebuild TensorFlow with the appropriate compiler flags.\n",
      "2022-12-10 21:26:24.249110: I tensorflow/core/common_runtime/gpu/gpu_device.cc:1525] Created device /job:localhost/replica:0/task:0/device:GPU:0 with 79111 MB memory:  -> device: 0, name: NVIDIA A100-SXM4-80GB, pci bus id: 0000:4e:00.0, compute capability: 8.0\n"
     ]
    },
    {
     "name": "stdout",
     "output_type": "stream",
     "text": [
      "Model: \"sequential\"\n",
      "_________________________________________________________________\n",
      " Layer (type)                Output Shape              Param #   \n",
      "=================================================================\n",
      " flatten (Flatten)           (None, 16875)             0         \n",
      "                                                                 \n",
      " dense_b_1 (Dense)           (None, 75)                1265700   \n",
      "                                                                 \n",
      " dropout (Dropout)           (None, 75)                0         \n",
      "                                                                 \n",
      " dense_b_2 (Dense)           (None, 50)                3800      \n",
      "                                                                 \n",
      " dropout_1 (Dropout)         (None, 50)                0         \n",
      "                                                                 \n",
      " dense (Dense)               (None, 10)                510       \n",
      "                                                                 \n",
      "=================================================================\n",
      "Total params: 1,270,010\n",
      "Trainable params: 1,270,010\n",
      "Non-trainable params: 0\n",
      "_________________________________________________________________\n"
     ]
    }
   ],
   "source": [
    "model_1 = tf.keras.models.load_model('model_b_1')\n",
    "model_1.summary()"
   ]
  },
  {
   "cell_type": "code",
   "execution_count": 5,
   "id": "4103ed88-bd55-4140-b27e-f638a6f3617b",
   "metadata": {},
   "outputs": [
    {
     "name": "stdout",
     "output_type": "stream",
     "text": [
      "Model: \"sequential\"\n",
      "_________________________________________________________________\n",
      " Layer (type)                Output Shape              Param #   \n",
      "=================================================================\n",
      " flatten (Flatten)           (None, 16875)             0         \n",
      "                                                                 \n",
      " dense (Dense)               (None, 224)               3780224   \n",
      "                                                                 \n",
      " dropout (Dropout)           (None, 224)               0         \n",
      "                                                                 \n",
      " dense_1 (Dense)             (None, 10)                2250      \n",
      "                                                                 \n",
      "=================================================================\n",
      "Total params: 3,782,474\n",
      "Trainable params: 3,782,474\n",
      "Non-trainable params: 0\n",
      "_________________________________________________________________\n"
     ]
    }
   ],
   "source": [
    "model_2 = tf.keras.models.load_model('model_h_1')\n",
    "model_2.summary()"
   ]
  },
  {
   "cell_type": "code",
   "execution_count": 6,
   "id": "990279e5-9e6b-4fc6-ad6d-729a283ba235",
   "metadata": {},
   "outputs": [
    {
     "name": "stdout",
     "output_type": "stream",
     "text": [
      "Model: \"model\"\n",
      "_________________________________________________________________\n",
      " Layer (type)                Output Shape              Param #   \n",
      "=================================================================\n",
      " input_2 (InputLayer)        [(None, 75, 75, 3)]       0         \n",
      "                                                                 \n",
      " resizing (Resizing)         (None, 75, 75, 3)         0         \n",
      "                                                                 \n",
      " xception (Functional)       (None, 3, 3, 2048)        20861480  \n",
      "                                                                 \n",
      " global_average_pooling2d (G  (None, 2048)             0         \n",
      " lobalAveragePooling2D)                                          \n",
      "                                                                 \n",
      " dense_2 (Dense)             (None, 10)                20490     \n",
      "                                                                 \n",
      "=================================================================\n",
      "Total params: 20,881,970\n",
      "Trainable params: 20,490\n",
      "Non-trainable params: 20,861,480\n",
      "_________________________________________________________________\n"
     ]
    }
   ],
   "source": [
    "model_3 = tf.keras.models.load_model('model_t_1')\n",
    "model_3.summary()"
   ]
  },
  {
   "cell_type": "code",
   "execution_count": 7,
   "id": "f6c188ba-eafd-4c8d-b955-635ee7b4f47b",
   "metadata": {},
   "outputs": [],
   "source": [
    "X_test_1 = joblib.load('X_test_rs.pkl')\n",
    "t_test_1 = joblib.load('t_test.pkl')\n"
   ]
  },
  {
   "cell_type": "code",
   "execution_count": 8,
   "id": "aa1ed90a-4111-4da2-b787-7be5be274c88",
   "metadata": {},
   "outputs": [
    {
     "name": "stderr",
     "output_type": "stream",
     "text": [
      "2022-12-10 21:26:32.438539: I tensorflow/stream_executor/cuda/cuda_blas.cc:1774] TensorFloat-32 will be used for the matrix multiplication. This will only be logged once.\n"
     ]
    },
    {
     "data": {
      "text/plain": [
       "(332,)"
      ]
     },
     "execution_count": 8,
     "metadata": {},
     "output_type": "execute_result"
    }
   ],
   "source": [
    "y_test_1 = np.argmax(model_1.predict(X_test_1),axis=1)\n",
    "y_test_1.shape"
   ]
  },
  {
   "cell_type": "code",
   "execution_count": 9,
   "id": "3e76b08b-791a-4074-86ad-73783b9e4115",
   "metadata": {},
   "outputs": [
    {
     "name": "stdout",
     "output_type": "stream",
     "text": [
      "               precision    recall  f1-score   support\n",
      "\n",
      "        Roses       0.17      0.58      0.26        36\n",
      "    Magnolias       0.09      0.06      0.07        36\n",
      "       Lilies       0.00      0.00      0.00        41\n",
      "   Sunflowers       0.00      0.00      0.00        28\n",
      "      Orchids       0.25      0.91      0.39        35\n",
      "     Marigold       0.46      0.19      0.27        31\n",
      "     Hibiscus       0.00      0.00      0.00        32\n",
      "     Firebush       0.28      0.24      0.25        34\n",
      "       Pentas       0.00      0.00      0.00        32\n",
      "Bougainvillea       0.00      0.00      0.00        27\n",
      "\n",
      "     accuracy                           0.21       332\n",
      "    macro avg       0.12      0.20      0.12       332\n",
      " weighted avg       0.12      0.21      0.13       332\n",
      "\n"
     ]
    }
   ],
   "source": [
    "print(classification_report(t_test_1, y_test_1, target_names=class_names))"
   ]
  },
  {
   "cell_type": "code",
   "execution_count": 10,
   "id": "472ee5f7-5840-4027-8240-d8043a6d8a53",
   "metadata": {},
   "outputs": [
    {
     "data": {
      "text/plain": [
       "(332,)"
      ]
     },
     "execution_count": 10,
     "metadata": {},
     "output_type": "execute_result"
    }
   ],
   "source": [
    "y_test_2 = np.argmax(model_2.predict(X_test_1),axis=1)\n",
    "y_test_2.shape"
   ]
  },
  {
   "cell_type": "code",
   "execution_count": 11,
   "id": "579dcdb2-9152-42d2-a8a9-1b2b50a2a8fb",
   "metadata": {},
   "outputs": [
    {
     "name": "stdout",
     "output_type": "stream",
     "text": [
      "               precision    recall  f1-score   support\n",
      "\n",
      "        Roses       1.00      0.08      0.15        36\n",
      "    Magnolias       0.38      0.61      0.47        36\n",
      "       Lilies       0.17      0.34      0.23        41\n",
      "   Sunflowers       0.33      0.21      0.26        28\n",
      "      Orchids       0.40      0.66      0.50        35\n",
      "     Marigold       0.41      0.45      0.43        31\n",
      "     Hibiscus       0.24      0.22      0.23        32\n",
      "     Firebush       0.57      0.62      0.59        34\n",
      "       Pentas       0.10      0.03      0.05        32\n",
      "Bougainvillea       0.50      0.11      0.18        27\n",
      "\n",
      "     accuracy                           0.34       332\n",
      "    macro avg       0.41      0.33      0.31       332\n",
      " weighted avg       0.41      0.34      0.31       332\n",
      "\n"
     ]
    }
   ],
   "source": [
    "print(classification_report(t_test_1, y_test_2, target_names=class_names))"
   ]
  },
  {
   "cell_type": "code",
   "execution_count": 12,
   "id": "1b67aea2-cdeb-44fb-b360-fa88b08a3826",
   "metadata": {},
   "outputs": [
    {
     "name": "stderr",
     "output_type": "stream",
     "text": [
      "2022-12-10 21:26:33.669811: I tensorflow/stream_executor/cuda/cuda_dnn.cc:366] Loaded cuDNN version 8201\n",
      "2022-12-10 21:26:34.569365: W tensorflow/stream_executor/gpu/asm_compiler.cc:80] Couldn't get ptxas version string: INTERNAL: Running ptxas --version returned 32512\n",
      "2022-12-10 21:26:34.681006: W tensorflow/stream_executor/gpu/redzone_allocator.cc:314] INTERNAL: ptxas exited with non-zero error code 32512, output: \n",
      "Relying on driver to perform ptx compilation. \n",
      "Modify $PATH to customize ptxas location.\n",
      "This message will be only logged once.\n"
     ]
    },
    {
     "data": {
      "text/plain": [
       "(332,)"
      ]
     },
     "execution_count": 12,
     "metadata": {},
     "output_type": "execute_result"
    }
   ],
   "source": [
    "y_test_3 = np.argmax(model_3.predict(X_test_1),axis=1)\n",
    "y_test_3.shape"
   ]
  },
  {
   "cell_type": "code",
   "execution_count": 13,
   "id": "110785b0-a45d-4e52-b3d7-b6390fc1db53",
   "metadata": {},
   "outputs": [
    {
     "name": "stdout",
     "output_type": "stream",
     "text": [
      "               precision    recall  f1-score   support\n",
      "\n",
      "        Roses       0.31      0.36      0.33        36\n",
      "    Magnolias       0.49      0.53      0.51        36\n",
      "       Lilies       0.34      0.34      0.34        41\n",
      "   Sunflowers       0.32      0.21      0.26        28\n",
      "      Orchids       0.52      0.31      0.39        35\n",
      "     Marigold       0.52      0.48      0.50        31\n",
      "     Hibiscus       0.36      0.38      0.37        32\n",
      "     Firebush       0.56      0.44      0.49        34\n",
      "       Pentas       0.30      0.53      0.38        32\n",
      "Bougainvillea       0.29      0.26      0.27        27\n",
      "\n",
      "     accuracy                           0.39       332\n",
      "    macro avg       0.40      0.38      0.38       332\n",
      " weighted avg       0.40      0.39      0.39       332\n",
      "\n"
     ]
    }
   ],
   "source": [
    "print(classification_report(t_test_1, y_test_3, target_names=class_names))"
   ]
  },
  {
   "cell_type": "markdown",
   "id": "409a5de3-8be6-4e21-a747-b83b983bb8a3",
   "metadata": {},
   "source": [
    "## Question_2"
   ]
  },
  {
   "cell_type": "code",
   "execution_count": 14,
   "id": "672db3c6-978b-41f3-a1ab-a8b409d2b8c2",
   "metadata": {},
   "outputs": [],
   "source": [
    "# import Point, Polygon\n",
    "from sympy import Point, Polygon\n",
    "\n",
    "# creating points using Point()\n",
    "# the four coordinates of rectangle given xmin,ymin and xmax, ymax\n",
    "# To find union and intersection of two polygons we need to map it to coordinate points\n",
    "# Hence using xmin,ymin,xmax,ymax we will find the four coordinates\n",
    "# The four coordinates will be\n",
    "# Xmin,Ymin\n",
    "# Xmax,Ymin\n",
    "# Xmax,Ymax\n",
    "# Xmin,Ymax\n",
    "\n",
    "def find_intersect_union_ratio(i,y_pred,t_train):\n",
    "    Xmin1 = y_pred[i][0]\n",
    "    Ymin1 = y_pred[i][1]\n",
    "    Xmax1 = y_pred[i][2]\n",
    "    Ymax1 = y_pred[i][3]\n",
    "\n",
    "    Xmin2 = t_train[i][0]\n",
    "    Ymin2 = t_train[i][1]\n",
    "    Xmax2 = t_train[i][2]\n",
    "    Ymax2 = t_train[i][3]\n",
    "\n",
    "    from shapely.geometry import Polygon\n",
    "    polygon = Polygon([(Xmin1, Ymin1), (Xmin1, Ymax1), (Xmax1, Ymax1), (Xmax1, Ymin1)])\n",
    "    other_polygon = Polygon([(Xmin2, Ymin2), (Xmin2, Ymax2), (Xmax2, Ymax2), (Xmax2, Ymin2)])\n",
    "    \n",
    "    # creating polygons using Polygon()\n",
    "    \n",
    "    intersect_area = polygon.intersection(other_polygon).area\n",
    "    union_area = polygon.union(other_polygon).area\n",
    "    \n",
    "    # find the ratio of intersection over union\n",
    "    print(\"intersection\")\n",
    "    print(intersect_area)\n",
    "    print(\"union\")\n",
    "    print(union_area)\n",
    "    \n",
    "    ratio_metric = intersect_area/union_area\n",
    "    \n",
    "    return ratio_metric\n",
    "\n",
    "## this will return two new polygons\n",
    "## intersect_area will encapsulate the points which form the intersection\n",
    "## union_area will encapsulate the points which form the union\n"
   ]
  },
  {
   "cell_type": "code",
   "execution_count": 15,
   "id": "b0229724-fb77-44e4-931b-f98d7446274f",
   "metadata": {},
   "outputs": [],
   "source": [
    "## find score of all interection over union for each image\n",
    "\n",
    "def find_total_ratio(y_pred,t_train):\n",
    "    n = len(y_pred)\n",
    "    ans = 0\n",
    "    for i in range(len(y_pred)):\n",
    "        ans += find_intersect_union_ratio(i,y_pred,t_train)\n",
    "    \n",
    "    avg = ans/n\n",
    "    return avg"
   ]
  },
  {
   "cell_type": "markdown",
   "id": "7988c44a-3063-4686-9a08-8939fa8796c7",
   "metadata": {},
   "source": [
    "## Question - 3"
   ]
  },
  {
   "cell_type": "code",
   "execution_count": 16,
   "id": "fead39f3-f807-4a90-9504-1decd20b3bf4",
   "metadata": {},
   "outputs": [],
   "source": [
    "from PIL import Image\n",
    "import cv2 # install opencv, if you don't already have it (https://pypi.org/project/opencv-python/)\n",
    "import pandas as pd"
   ]
  },
  {
   "cell_type": "code",
   "execution_count": 17,
   "id": "ee19d858-28c2-41c6-9532-a5d154deac1f",
   "metadata": {},
   "outputs": [
    {
     "data": {
      "text/html": [
       "<div>\n",
       "<style scoped>\n",
       "    .dataframe tbody tr th:only-of-type {\n",
       "        vertical-align: middle;\n",
       "    }\n",
       "\n",
       "    .dataframe tbody tr th {\n",
       "        vertical-align: top;\n",
       "    }\n",
       "\n",
       "    .dataframe thead th {\n",
       "        text-align: right;\n",
       "    }\n",
       "</style>\n",
       "<table border=\"1\" class=\"dataframe\">\n",
       "  <thead>\n",
       "    <tr style=\"text-align: right;\">\n",
       "      <th></th>\n",
       "      <th>image</th>\n",
       "      <th>xmin</th>\n",
       "      <th>ymin</th>\n",
       "      <th>xmax</th>\n",
       "      <th>ymax</th>\n",
       "    </tr>\n",
       "  </thead>\n",
       "  <tbody>\n",
       "    <tr>\n",
       "      <th>0</th>\n",
       "      <td>vid_4_1000.jpg</td>\n",
       "      <td>281.259045</td>\n",
       "      <td>187.035071</td>\n",
       "      <td>327.727931</td>\n",
       "      <td>223.225547</td>\n",
       "    </tr>\n",
       "    <tr>\n",
       "      <th>1</th>\n",
       "      <td>vid_4_10000.jpg</td>\n",
       "      <td>15.163531</td>\n",
       "      <td>187.035071</td>\n",
       "      <td>120.329957</td>\n",
       "      <td>236.430180</td>\n",
       "    </tr>\n",
       "    <tr>\n",
       "      <th>2</th>\n",
       "      <td>vid_4_10040.jpg</td>\n",
       "      <td>239.192475</td>\n",
       "      <td>176.764801</td>\n",
       "      <td>361.968162</td>\n",
       "      <td>236.430180</td>\n",
       "    </tr>\n",
       "    <tr>\n",
       "      <th>3</th>\n",
       "      <td>vid_4_10020.jpg</td>\n",
       "      <td>496.483358</td>\n",
       "      <td>172.363256</td>\n",
       "      <td>630.020260</td>\n",
       "      <td>231.539575</td>\n",
       "    </tr>\n",
       "    <tr>\n",
       "      <th>4</th>\n",
       "      <td>vid_4_10060.jpg</td>\n",
       "      <td>16.630970</td>\n",
       "      <td>186.546010</td>\n",
       "      <td>132.558611</td>\n",
       "      <td>238.386422</td>\n",
       "    </tr>\n",
       "    <tr>\n",
       "      <th>...</th>\n",
       "      <td>...</td>\n",
       "      <td>...</td>\n",
       "      <td>...</td>\n",
       "      <td>...</td>\n",
       "      <td>...</td>\n",
       "    </tr>\n",
       "    <tr>\n",
       "      <th>554</th>\n",
       "      <td>vid_4_9860.jpg</td>\n",
       "      <td>0.000000</td>\n",
       "      <td>198.321729</td>\n",
       "      <td>49.235251</td>\n",
       "      <td>236.223284</td>\n",
       "    </tr>\n",
       "    <tr>\n",
       "      <th>555</th>\n",
       "      <td>vid_4_9880.jpg</td>\n",
       "      <td>329.876184</td>\n",
       "      <td>156.482351</td>\n",
       "      <td>536.664239</td>\n",
       "      <td>250.497895</td>\n",
       "    </tr>\n",
       "    <tr>\n",
       "      <th>556</th>\n",
       "      <td>vid_4_9900.jpg</td>\n",
       "      <td>0.000000</td>\n",
       "      <td>168.295823</td>\n",
       "      <td>141.797524</td>\n",
       "      <td>239.176652</td>\n",
       "    </tr>\n",
       "    <tr>\n",
       "      <th>557</th>\n",
       "      <td>vid_4_9960.jpg</td>\n",
       "      <td>487.428988</td>\n",
       "      <td>172.233646</td>\n",
       "      <td>616.917699</td>\n",
       "      <td>228.839864</td>\n",
       "    </tr>\n",
       "    <tr>\n",
       "      <th>558</th>\n",
       "      <td>vid_4_9980.jpg</td>\n",
       "      <td>221.558631</td>\n",
       "      <td>182.570434</td>\n",
       "      <td>348.585579</td>\n",
       "      <td>238.192196</td>\n",
       "    </tr>\n",
       "  </tbody>\n",
       "</table>\n",
       "<p>559 rows × 5 columns</p>\n",
       "</div>"
      ],
      "text/plain": [
       "               image        xmin        ymin        xmax        ymax\n",
       "0     vid_4_1000.jpg  281.259045  187.035071  327.727931  223.225547\n",
       "1    vid_4_10000.jpg   15.163531  187.035071  120.329957  236.430180\n",
       "2    vid_4_10040.jpg  239.192475  176.764801  361.968162  236.430180\n",
       "3    vid_4_10020.jpg  496.483358  172.363256  630.020260  231.539575\n",
       "4    vid_4_10060.jpg   16.630970  186.546010  132.558611  238.386422\n",
       "..               ...         ...         ...         ...         ...\n",
       "554   vid_4_9860.jpg    0.000000  198.321729   49.235251  236.223284\n",
       "555   vid_4_9880.jpg  329.876184  156.482351  536.664239  250.497895\n",
       "556   vid_4_9900.jpg    0.000000  168.295823  141.797524  239.176652\n",
       "557   vid_4_9960.jpg  487.428988  172.233646  616.917699  228.839864\n",
       "558   vid_4_9980.jpg  221.558631  182.570434  348.585579  238.192196\n",
       "\n",
       "[559 rows x 5 columns]"
      ]
     },
     "execution_count": 17,
     "metadata": {},
     "output_type": "execute_result"
    }
   ],
   "source": [
    "bbox = pd.read_csv('car_detection_dataset/train_bounding_boxes.csv')\n",
    "bbox"
   ]
  },
  {
   "cell_type": "code",
   "execution_count": 18,
   "id": "cc6fcad2-1136-4961-be24-cc4a9e077270",
   "metadata": {},
   "outputs": [
    {
     "data": {
      "text/html": [
       "<div>\n",
       "<style scoped>\n",
       "    .dataframe tbody tr th:only-of-type {\n",
       "        vertical-align: middle;\n",
       "    }\n",
       "\n",
       "    .dataframe tbody tr th {\n",
       "        vertical-align: top;\n",
       "    }\n",
       "\n",
       "    .dataframe thead th {\n",
       "        text-align: right;\n",
       "    }\n",
       "</style>\n",
       "<table border=\"1\" class=\"dataframe\">\n",
       "  <thead>\n",
       "    <tr style=\"text-align: right;\">\n",
       "      <th></th>\n",
       "      <th>label_name</th>\n",
       "      <th>bbox_x</th>\n",
       "      <th>bbox_y</th>\n",
       "      <th>bbox_width</th>\n",
       "      <th>bbox_height</th>\n",
       "      <th>image_name</th>\n",
       "      <th>image_width</th>\n",
       "      <th>image_height</th>\n",
       "    </tr>\n",
       "  </thead>\n",
       "  <tbody>\n",
       "    <tr>\n",
       "      <th>0</th>\n",
       "      <td>object</td>\n",
       "      <td>138</td>\n",
       "      <td>179</td>\n",
       "      <td>75</td>\n",
       "      <td>47</td>\n",
       "      <td>vid_5_27440.jpg</td>\n",
       "      <td>676</td>\n",
       "      <td>380</td>\n",
       "    </tr>\n",
       "    <tr>\n",
       "      <th>1</th>\n",
       "      <td>object</td>\n",
       "      <td>398</td>\n",
       "      <td>163</td>\n",
       "      <td>207</td>\n",
       "      <td>79</td>\n",
       "      <td>vid_5_27480.jpg</td>\n",
       "      <td>676</td>\n",
       "      <td>380</td>\n",
       "    </tr>\n",
       "    <tr>\n",
       "      <th>2</th>\n",
       "      <td>object</td>\n",
       "      <td>195</td>\n",
       "      <td>169</td>\n",
       "      <td>139</td>\n",
       "      <td>66</td>\n",
       "      <td>vid_5_27860.jpg</td>\n",
       "      <td>676</td>\n",
       "      <td>380</td>\n",
       "    </tr>\n",
       "    <tr>\n",
       "      <th>3</th>\n",
       "      <td>object</td>\n",
       "      <td>478</td>\n",
       "      <td>149</td>\n",
       "      <td>190</td>\n",
       "      <td>85</td>\n",
       "      <td>vid_5_27900.jpg</td>\n",
       "      <td>676</td>\n",
       "      <td>380</td>\n",
       "    </tr>\n",
       "    <tr>\n",
       "      <th>4</th>\n",
       "      <td>object</td>\n",
       "      <td>357</td>\n",
       "      <td>179</td>\n",
       "      <td>125</td>\n",
       "      <td>62</td>\n",
       "      <td>vid_5_29460.jpg</td>\n",
       "      <td>676</td>\n",
       "      <td>380</td>\n",
       "    </tr>\n",
       "    <tr>\n",
       "      <th>5</th>\n",
       "      <td>object</td>\n",
       "      <td>324</td>\n",
       "      <td>167</td>\n",
       "      <td>146</td>\n",
       "      <td>67</td>\n",
       "      <td>vid_5_31100.jpg</td>\n",
       "      <td>676</td>\n",
       "      <td>380</td>\n",
       "    </tr>\n",
       "    <tr>\n",
       "      <th>6</th>\n",
       "      <td>object</td>\n",
       "      <td>342</td>\n",
       "      <td>166</td>\n",
       "      <td>130</td>\n",
       "      <td>64</td>\n",
       "      <td>vid_5_31140.jpg</td>\n",
       "      <td>676</td>\n",
       "      <td>380</td>\n",
       "    </tr>\n",
       "    <tr>\n",
       "      <th>7</th>\n",
       "      <td>object</td>\n",
       "      <td>361</td>\n",
       "      <td>169</td>\n",
       "      <td>181</td>\n",
       "      <td>86</td>\n",
       "      <td>vid_5_31600.jpg</td>\n",
       "      <td>676</td>\n",
       "      <td>380</td>\n",
       "    </tr>\n",
       "  </tbody>\n",
       "</table>\n",
       "</div>"
      ],
      "text/plain": [
       "  label_name  bbox_x  bbox_y  bbox_width  bbox_height       image_name  \\\n",
       "0     object     138     179          75           47  vid_5_27440.jpg   \n",
       "1     object     398     163         207           79  vid_5_27480.jpg   \n",
       "2     object     195     169         139           66  vid_5_27860.jpg   \n",
       "3     object     478     149         190           85  vid_5_27900.jpg   \n",
       "4     object     357     179         125           62  vid_5_29460.jpg   \n",
       "5     object     324     167         146           67  vid_5_31100.jpg   \n",
       "6     object     342     166         130           64  vid_5_31140.jpg   \n",
       "7     object     361     169         181           86  vid_5_31600.jpg   \n",
       "\n",
       "   image_width  image_height  \n",
       "0          676           380  \n",
       "1          676           380  \n",
       "2          676           380  \n",
       "3          676           380  \n",
       "4          676           380  \n",
       "5          676           380  \n",
       "6          676           380  \n",
       "7          676           380  "
      ]
     },
     "execution_count": 18,
     "metadata": {},
     "output_type": "execute_result"
    }
   ],
   "source": [
    "bbox_2 = pd.read_csv('car_detection_dataset/test_bounding_boxes.csv')\n",
    "bbox_2"
   ]
  },
  {
   "cell_type": "code",
   "execution_count": 19,
   "id": "c5377551-0e68-4b98-b994-1b461d5a8e61",
   "metadata": {},
   "outputs": [
    {
     "data": {
      "text/html": [
       "<div>\n",
       "<style scoped>\n",
       "    .dataframe tbody tr th:only-of-type {\n",
       "        vertical-align: middle;\n",
       "    }\n",
       "\n",
       "    .dataframe tbody tr th {\n",
       "        vertical-align: top;\n",
       "    }\n",
       "\n",
       "    .dataframe thead th {\n",
       "        text-align: right;\n",
       "    }\n",
       "</style>\n",
       "<table border=\"1\" class=\"dataframe\">\n",
       "  <thead>\n",
       "    <tr style=\"text-align: right;\">\n",
       "      <th></th>\n",
       "      <th>bbox_x</th>\n",
       "      <th>bbox_y</th>\n",
       "      <th>bbox_width</th>\n",
       "      <th>bbox_height</th>\n",
       "      <th>image_name</th>\n",
       "    </tr>\n",
       "  </thead>\n",
       "  <tbody>\n",
       "    <tr>\n",
       "      <th>0</th>\n",
       "      <td>138</td>\n",
       "      <td>179</td>\n",
       "      <td>75</td>\n",
       "      <td>47</td>\n",
       "      <td>vid_5_27440.jpg</td>\n",
       "    </tr>\n",
       "    <tr>\n",
       "      <th>1</th>\n",
       "      <td>398</td>\n",
       "      <td>163</td>\n",
       "      <td>207</td>\n",
       "      <td>79</td>\n",
       "      <td>vid_5_27480.jpg</td>\n",
       "    </tr>\n",
       "    <tr>\n",
       "      <th>2</th>\n",
       "      <td>195</td>\n",
       "      <td>169</td>\n",
       "      <td>139</td>\n",
       "      <td>66</td>\n",
       "      <td>vid_5_27860.jpg</td>\n",
       "    </tr>\n",
       "    <tr>\n",
       "      <th>3</th>\n",
       "      <td>478</td>\n",
       "      <td>149</td>\n",
       "      <td>190</td>\n",
       "      <td>85</td>\n",
       "      <td>vid_5_27900.jpg</td>\n",
       "    </tr>\n",
       "    <tr>\n",
       "      <th>4</th>\n",
       "      <td>357</td>\n",
       "      <td>179</td>\n",
       "      <td>125</td>\n",
       "      <td>62</td>\n",
       "      <td>vid_5_29460.jpg</td>\n",
       "    </tr>\n",
       "    <tr>\n",
       "      <th>5</th>\n",
       "      <td>324</td>\n",
       "      <td>167</td>\n",
       "      <td>146</td>\n",
       "      <td>67</td>\n",
       "      <td>vid_5_31100.jpg</td>\n",
       "    </tr>\n",
       "    <tr>\n",
       "      <th>6</th>\n",
       "      <td>342</td>\n",
       "      <td>166</td>\n",
       "      <td>130</td>\n",
       "      <td>64</td>\n",
       "      <td>vid_5_31140.jpg</td>\n",
       "    </tr>\n",
       "    <tr>\n",
       "      <th>7</th>\n",
       "      <td>361</td>\n",
       "      <td>169</td>\n",
       "      <td>181</td>\n",
       "      <td>86</td>\n",
       "      <td>vid_5_31600.jpg</td>\n",
       "    </tr>\n",
       "  </tbody>\n",
       "</table>\n",
       "</div>"
      ],
      "text/plain": [
       "   bbox_x  bbox_y  bbox_width  bbox_height       image_name\n",
       "0     138     179          75           47  vid_5_27440.jpg\n",
       "1     398     163         207           79  vid_5_27480.jpg\n",
       "2     195     169         139           66  vid_5_27860.jpg\n",
       "3     478     149         190           85  vid_5_27900.jpg\n",
       "4     357     179         125           62  vid_5_29460.jpg\n",
       "5     324     167         146           67  vid_5_31100.jpg\n",
       "6     342     166         130           64  vid_5_31140.jpg\n",
       "7     361     169         181           86  vid_5_31600.jpg"
      ]
     },
     "execution_count": 19,
     "metadata": {},
     "output_type": "execute_result"
    }
   ],
   "source": [
    "bbox_2 = bbox_2.drop(['label_name','image_width','image_height'],axis=1)\n",
    "bbox_2"
   ]
  },
  {
   "cell_type": "code",
   "execution_count": 20,
   "id": "3e385ad5-d0cc-4f3e-877e-faf84a9594b5",
   "metadata": {},
   "outputs": [
    {
     "data": {
      "text/plain": [
       "((8, 770640), (8, 4))"
      ]
     },
     "execution_count": 20,
     "metadata": {},
     "output_type": "execute_result"
    }
   ],
   "source": [
    "N = len(bbox_2) # no. of training samples\n",
    "\n",
    "# Create a numpy array with all images\n",
    "for i in range(N): \n",
    "    filename='car_detection_dataset/testing_images/'+bbox_2['image_name'][i]\n",
    "    image = np.array(Image.open(filename))\n",
    "    image_col = image.ravel()[:,np.newaxis]\n",
    "    \n",
    "    if i==0:\n",
    "        X_test = image_col\n",
    "    else:\n",
    "        X_test = np.hstack((X_test, image_col))\n",
    "\n",
    "# Training feature matrices\n",
    "X_test = X_test.T\n",
    "\n",
    "# Training labels\n",
    "t_test = bbox_2.drop('image_name', axis=1).round().to_numpy().astype(int)\n",
    "\n",
    "X_test.shape, t_test.shape"
   ]
  },
  {
   "cell_type": "code",
   "execution_count": 21,
   "id": "ab2655c6-063d-4946-96c0-bc35b3af9670",
   "metadata": {},
   "outputs": [
    {
     "name": "stdout",
     "output_type": "stream",
     "text": [
      "Model: \"model\"\n",
      "_________________________________________________________________\n",
      " Layer (type)                Output Shape              Param #   \n",
      "=================================================================\n",
      " input_2 (InputLayer)        [(None, 380, 676, 3)]     0         \n",
      "                                                                 \n",
      " resizing (Resizing)         (None, 300, 300, 3)       0         \n",
      "                                                                 \n",
      " xception (Functional)       (None, 10, 10, 2048)      20861480  \n",
      "                                                                 \n",
      " global_average_pooling2d (G  (None, 2048)             0         \n",
      " lobalAveragePooling2D)                                          \n",
      "                                                                 \n",
      " dense (Dense)               (None, 4)                 8196      \n",
      "                                                                 \n",
      "=================================================================\n",
      "Total params: 20,869,676\n",
      "Trainable params: 20,815,148\n",
      "Non-trainable params: 54,528\n",
      "_________________________________________________________________\n"
     ]
    }
   ],
   "source": [
    "model_4 = tf.keras.models.load_model('model_h_3')\n",
    "model_4.summary()\n",
    "                                     \n",
    "                                     \n",
    "                                     "
   ]
  },
  {
   "cell_type": "code",
   "execution_count": 22,
   "id": "ef9b1b30-048b-4d81-87b2-3dff4432b291",
   "metadata": {},
   "outputs": [
    {
     "data": {
      "text/plain": [
       "TensorShape([8, 380, 676, 3])"
      ]
     },
     "execution_count": 22,
     "metadata": {},
     "output_type": "execute_result"
    }
   ],
   "source": [
    "## reshape the validation data input\n",
    "\n",
    "X_test_rs = tf.constant(X_test.reshape((X_test.shape[0],380,676,3)), \n",
    "                         dtype=tf.float32)\n",
    "\n",
    "X_test_rs.shape\n"
   ]
  },
  {
   "cell_type": "code",
   "execution_count": 23,
   "id": "619f507b-1528-4266-b48b-a84d934bb88f",
   "metadata": {},
   "outputs": [],
   "source": [
    "labels=model_4.predict(X_test_rs)"
   ]
  },
  {
   "cell_type": "code",
   "execution_count": 24,
   "id": "66429c99-f398-47a1-8a8c-cc3f1ebaa9b0",
   "metadata": {},
   "outputs": [],
   "source": [
    "import math\n"
   ]
  },
  {
   "cell_type": "code",
   "execution_count": 25,
   "id": "91220fbe-b9fd-4a1b-b3eb-723833024b11",
   "metadata": {},
   "outputs": [
    {
     "name": "stdout",
     "output_type": "stream",
     "text": [
      "5\n"
     ]
    },
    {
     "data": {
      "text/plain": [
       "<matplotlib.image.AxesImage at 0x2b420ecc4760>"
      ]
     },
     "execution_count": 25,
     "metadata": {},
     "output_type": "execute_result"
    },
    {
     "data": {
      "image/png": "[encoded data removed]",
      "text/plain": [
       "<Figure size 432x288 with 1 Axes>"
      ]
     },
     "metadata": {
      "needs_background": "light"
     },
     "output_type": "display_data"
    }
   ],
   "source": [
    "idx=N-3\n",
    "print(idx)\n",
    "filename='car_detection_dataset/testing_images/'+bbox_2['image_name'][idx]\n",
    "image = np.array(Image.open(filename))\n",
    "#image = np.array(Image.open(filename))\n",
    "x= image\n",
    "\n",
    "#plt.imshow(x)\n",
    "\n",
    "cv2.rectangle(x, (math.floor(labels[idx,0]),math.floor(labels[idx,1])), \n",
    "              (math.floor(labels[idx,2]),math.floor(labels[idx,3])), \n",
    "              (255, 0, 0), 2);\n",
    "\n",
    "plt.imshow(x)"
   ]
  },
  {
   "cell_type": "code",
   "execution_count": 26,
   "id": "27e59895-0b44-44cc-9658-f8103dbf7766",
   "metadata": {},
   "outputs": [
    {
     "data": {
      "text/plain": [
       "array([[349.60843, 142.58209, 452.74124, 188.59296],\n",
       "       [204.95705, 154.64957, 331.15408, 203.9924 ],\n",
       "       [159.31645, 162.52872, 250.02768, 196.39696],\n",
       "       [329.08023, 113.05589, 408.21417, 145.86852],\n",
       "       [308.86453, 154.71066, 412.90955, 193.38823],\n",
       "       [247.19167, 154.84282, 356.5378 , 197.60397],\n",
       "       [290.17773, 153.34225, 391.90176, 193.73315],\n",
       "       [214.93575, 160.186  , 320.3443 , 197.42702]], dtype=float32)"
      ]
     },
     "execution_count": 26,
     "metadata": {},
     "output_type": "execute_result"
    }
   ],
   "source": [
    "labels"
   ]
  },
  {
   "cell_type": "code",
   "execution_count": 27,
   "id": "d623263b-9913-4951-84b5-bc3a063f2ee2",
   "metadata": {},
   "outputs": [
    {
     "data": {
      "text/plain": [
       "array([[138, 179,  75,  47],\n",
       "       [398, 163, 207,  79],\n",
       "       [195, 169, 139,  66],\n",
       "       [478, 149, 190,  85],\n",
       "       [357, 179, 125,  62],\n",
       "       [324, 167, 146,  67],\n",
       "       [342, 166, 130,  64],\n",
       "       [361, 169, 181,  86]])"
      ]
     },
     "execution_count": 27,
     "metadata": {},
     "output_type": "execute_result"
    }
   ],
   "source": [
    "t_test"
   ]
  },
  {
   "cell_type": "code",
   "execution_count": 28,
   "id": "ea1edefe-f325-4c77-83e3-52d3220403dc",
   "metadata": {},
   "outputs": [
    {
     "data": {
      "text/plain": [
       "array([[138, 179, 213, 226],\n",
       "       [398, 163, 605, 242],\n",
       "       [195, 169, 334, 235],\n",
       "       [478, 149, 668, 234],\n",
       "       [357, 179, 482, 241],\n",
       "       [324, 167, 470, 234],\n",
       "       [342, 166, 472, 230],\n",
       "       [361, 169, 542, 255]])"
      ]
     },
     "execution_count": 28,
     "metadata": {},
     "output_type": "execute_result"
    }
   ],
   "source": [
    "for i,list in enumerate(t_test):\n",
    "    t_test[i][2]=t_test[i][0]+t_test[i][2]\n",
    "    t_test[i][3]=t_test[i][1]+t_test[i][3]\n",
    "t_test"
   ]
  },
  {
   "cell_type": "code",
   "execution_count": null,
   "id": "acb4b0a3-5e74-4198-9934-429adb681fcc",
   "metadata": {},
   "outputs": [],
   "source": []
  },
  {
   "cell_type": "code",
   "execution_count": 29,
   "id": "ab68a4af-f18a-4e80-98b9-aeb4805aa758",
   "metadata": {},
   "outputs": [],
   "source": [
    "from sklearn.metrics import mean_squared_error\n",
    "mse = mean_squared_error(t_test, labels)"
   ]
  },
  {
   "cell_type": "code",
   "execution_count": 30,
   "id": "f13a21b6-73d2-445d-8207-7526dee983c8",
   "metadata": {},
   "outputs": [
    {
     "name": "stdout",
     "output_type": "stream",
     "text": [
      "intersection\n",
      "995.7863105172291\n",
      "union\n",
      "13461.981081182836\n"
     ]
    },
    {
     "data": {
      "text/plain": [
       "0.073970265186982"
      ]
     },
     "execution_count": 30,
     "metadata": {},
     "output_type": "execute_result"
    }
   ],
   "source": [
    "res = find_intersect_union_ratio(5,labels,t_test)\n",
    "res"
   ]
  },
  {
   "cell_type": "code",
   "execution_count": 31,
   "id": "69675dd8-5001-48af-8cbb-b950d2800712",
   "metadata": {},
   "outputs": [
    {
     "name": "stdout",
     "output_type": "stream",
     "text": [
      "intersection\n",
      "0.0\n",
      "union\n",
      "8270.229836463928\n",
      "intersection\n",
      "0.0\n",
      "union\n",
      "22579.919494957663\n",
      "intersection\n",
      "1507.5909893908538\n",
      "union\n",
      "10738.63866379601\n",
      "intersection\n",
      "0.0\n",
      "union\n",
      "18746.59212030843\n",
      "intersection\n",
      "804.4393703658134\n",
      "union\n",
      "10969.768558425363\n",
      "intersection\n",
      "995.7863105172291\n",
      "union\n",
      "13461.981081182836\n",
      "intersection\n",
      "1383.9333183690906\n",
      "union\n",
      "11044.791751650162\n",
      "intersection\n",
      "0.0\n",
      "union\n",
      "19491.521287714364\n"
     ]
    },
    {
     "data": {
      "text/plain": [
       "0.051624243270382494"
      ]
     },
     "execution_count": 31,
     "metadata": {},
     "output_type": "execute_result"
    }
   ],
   "source": [
    "total_ratio_score_test = find_total_ratio(labels,t_test)\n",
    "total_ratio_score_test"
   ]
  }
 ],
 "metadata": {
  "kernelspec": {
   "display_name": "Tensorflow-2.7.0",
   "language": "python",
   "name": "tensorflow-2.7.0"
  },
  "language_info": {
   "codemirror_mode": {
    "name": "ipython",
    "version": 3
   },
   "file_extension": ".py",
   "mimetype": "text/x-python",
   "name": "python",
   "nbconvert_exporter": "python",
   "pygments_lexer": "ipython3",
   "version": "3.9.12"
  }
 },
 "nbformat": 4,
 "nbformat_minor": 5
}
